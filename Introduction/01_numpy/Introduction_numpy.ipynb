{
 "cells": [
  {
   "cell_type": "code",
   "execution_count": 1,
   "id": "5e671960-7109-4457-8506-3d79d4b28267",
   "metadata": {},
   "outputs": [],
   "source": [
    "import numpy as np"
   ]
  },
  {
   "cell_type": "code",
   "execution_count": 2,
   "id": "c5120bbf-25b8-4bb7-bb9c-d2acc3e85603",
   "metadata": {},
   "outputs": [],
   "source": [
    "numpy_array = np.array([1,2,5,9])"
   ]
  },
  {
   "cell_type": "code",
   "execution_count": 3,
   "id": "19af6e17-1683-4971-9cdb-8fdec58b02c4",
   "metadata": {},
   "outputs": [
    {
     "name": "stdout",
     "output_type": "stream",
     "text": [
      "[1 2 5 9]\n"
     ]
    }
   ],
   "source": [
    "print(numpy_array)"
   ]
  },
  {
   "cell_type": "code",
   "execution_count": 4,
   "id": "a64d2f41-6b75-4c88-937e-d75e4b200044",
   "metadata": {},
   "outputs": [],
   "source": [
    "a = np.zeros((2,4))"
   ]
  },
  {
   "cell_type": "code",
   "execution_count": 5,
   "id": "f2a4b885-4667-4479-ad6f-d5bdf5f8eff6",
   "metadata": {},
   "outputs": [
    {
     "name": "stdout",
     "output_type": "stream",
     "text": [
      "[[0. 0. 0. 0.]\n",
      " [0. 0. 0. 0.]]\n"
     ]
    }
   ],
   "source": [
    "print(a)"
   ]
  },
  {
   "cell_type": "code",
   "execution_count": 6,
   "id": "66f4388c-ce58-416a-9894-159e8da6c55c",
   "metadata": {},
   "outputs": [
    {
     "data": {
      "text/plain": [
       "(2, 4)"
      ]
     },
     "execution_count": 6,
     "metadata": {},
     "output_type": "execute_result"
    }
   ],
   "source": [
    "a.shape"
   ]
  },
  {
   "cell_type": "code",
   "execution_count": 7,
   "id": "9fd605f1-c5ac-41f4-8a71-1c0668b7680c",
   "metadata": {},
   "outputs": [
    {
     "data": {
      "text/plain": [
       "2"
      ]
     },
     "execution_count": 7,
     "metadata": {},
     "output_type": "execute_result"
    }
   ],
   "source": [
    "a.ndim"
   ]
  },
  {
   "cell_type": "code",
   "execution_count": 8,
   "id": "ffbc7e42-cd7d-4bcc-89a6-40da3a7f91f8",
   "metadata": {},
   "outputs": [
    {
     "data": {
      "text/plain": [
       "8"
      ]
     },
     "execution_count": 8,
     "metadata": {},
     "output_type": "execute_result"
    }
   ],
   "source": [
    "a.size"
   ]
  },
  {
   "cell_type": "code",
   "execution_count": 9,
   "id": "4af07863-cc9e-4c97-8397-7add4d27d0ab",
   "metadata": {},
   "outputs": [
    {
     "data": {
      "text/plain": [
       "array([[[0., 0., 0., 0.],\n",
       "        [0., 0., 0., 0.],\n",
       "        [0., 0., 0., 0.]],\n",
       "\n",
       "       [[0., 0., 0., 0.],\n",
       "        [0., 0., 0., 0.],\n",
       "        [0., 0., 0., 0.]]])"
      ]
     },
     "execution_count": 9,
     "metadata": {},
     "output_type": "execute_result"
    }
   ],
   "source": [
    "# array de tres dimensiones\n",
    "np.zeros((2,3,4))"
   ]
  },
  {
   "cell_type": "code",
   "execution_count": 10,
   "id": "b664b1b7-d442-4458-9cb4-48656642b508",
   "metadata": {},
   "outputs": [
    {
     "data": {
      "text/plain": [
       "array([[[1., 1., 1., 1.],\n",
       "        [1., 1., 1., 1.],\n",
       "        [1., 1., 1., 1.]],\n",
       "\n",
       "       [[1., 1., 1., 1.],\n",
       "        [1., 1., 1., 1.],\n",
       "        [1., 1., 1., 1.]]])"
      ]
     },
     "execution_count": 10,
     "metadata": {},
     "output_type": "execute_result"
    }
   ],
   "source": [
    "#array de unos\n",
    "np.ones((2,3,4))"
   ]
  },
  {
   "cell_type": "code",
   "execution_count": 11,
   "id": "74875fab-0399-451d-84ea-8def4c60fd11",
   "metadata": {},
   "outputs": [
    {
     "data": {
      "text/plain": [
       "array([[[8, 8, 8, 8],\n",
       "        [8, 8, 8, 8],\n",
       "        [8, 8, 8, 8]],\n",
       "\n",
       "       [[8, 8, 8, 8],\n",
       "        [8, 8, 8, 8],\n",
       "        [8, 8, 8, 8]]])"
      ]
     },
     "execution_count": 11,
     "metadata": {},
     "output_type": "execute_result"
    }
   ],
   "source": [
    "# array con valor definido en la función\n",
    "np.full((2,3,4),8)"
   ]
  },
  {
   "cell_type": "code",
   "execution_count": 12,
   "id": "0c6b2e75-6e71-4595-8775-913b03bdf29c",
   "metadata": {},
   "outputs": [
    {
     "data": {
      "text/plain": [
       "array([[[0., 0., 0., 0., 0., 0., 0., 0., 0.],\n",
       "        [0., 0., 0., 0., 0., 0., 0., 0., 0.],\n",
       "        [0., 0., 0., 0., 0., 0., 0., 0., 0.]],\n",
       "\n",
       "       [[0., 0., 0., 0., 0., 0., 0., 0., 0.],\n",
       "        [0., 0., 0., 0., 0., 0., 0., 0., 0.],\n",
       "        [0., 0., 0., 0., 0., 0., 0., 0., 0.]]])"
      ]
     },
     "execution_count": 12,
     "metadata": {},
     "output_type": "execute_result"
    }
   ],
   "source": [
    "# array empty, no es predecible\n",
    "np.empty((2,3,9))"
   ]
  },
  {
   "cell_type": "code",
   "execution_count": 13,
   "id": "1c2d0802-7cef-457b-989d-527d5b9884d5",
   "metadata": {},
   "outputs": [
    {
     "name": "stdout",
     "output_type": "stream",
     "text": [
      "[1 2 3 4 5]\n"
     ]
    }
   ],
   "source": [
    "#inicializar array con listas de python\n",
    "my_list = [1,2,3,4,5]\n",
    "array = np.array(my_list)\n",
    "print(array)"
   ]
  },
  {
   "cell_type": "code",
   "execution_count": 14,
   "id": "542325c1-c8e4-49fe-96ac-f5cef08a9c4b",
   "metadata": {},
   "outputs": [
    {
     "name": "stdout",
     "output_type": "stream",
     "text": [
      "[0.         0.66666667 1.33333333 2.         2.66666667 3.33333333\n",
      " 4.         4.66666667 5.33333333 6.        ]\n"
     ]
    }
   ],
   "source": [
    "#crear un array  utilizando una función basada en rangos\n",
    "#(mínimo, maximo, número de elementos)\n",
    "print(np.linspace(0, 6, 10))"
   ]
  },
  {
   "cell_type": "code",
   "execution_count": 15,
   "id": "a99306e1-1a85-4eea-8771-3aa2476349f2",
   "metadata": {},
   "outputs": [
    {
     "data": {
      "text/plain": [
       "array([[[0.67413811, 0.1862741 , 0.56614456, 0.03066673],\n",
       "        [0.78669891, 0.33772151, 0.09668223, 0.94768269],\n",
       "        [0.87961838, 0.92077104, 0.66430943, 0.94699854]],\n",
       "\n",
       "       [[0.14503699, 0.22539512, 0.80016697, 0.40796691],\n",
       "        [0.87724978, 0.58816987, 0.46477007, 0.58601116],\n",
       "        [0.00823606, 0.98150926, 0.60194041, 0.40809047]]])"
      ]
     },
     "execution_count": 15,
     "metadata": {},
     "output_type": "execute_result"
    }
   ],
   "source": [
    "#inicializar array con valores aleatorios\n",
    "np.random.rand(2,3,4)"
   ]
  },
  {
   "cell_type": "code",
   "execution_count": 16,
   "id": "89465e3f-0979-4658-af6f-8a7869923ddd",
   "metadata": {},
   "outputs": [
    {
     "data": {
      "text/plain": [
       "array([[[ 0.94210384, -0.17110956,  0.77040095, -0.25392123],\n",
       "        [ 1.16505403, -1.92727248, -0.46591599, -0.26726489],\n",
       "        [-0.39455863,  0.59461506,  0.86275712,  0.57200185]],\n",
       "\n",
       "       [[ 0.34762157, -0.42800264, -1.88467737,  0.39830476],\n",
       "        [ 0.07075139,  1.50957433, -0.71076036, -0.94665718],\n",
       "        [-0.02867207,  0.14927078, -0.32260818, -0.22236298]]])"
      ]
     },
     "execution_count": 16,
     "metadata": {},
     "output_type": "execute_result"
    }
   ],
   "source": [
    "#inicializar array con valores aleatorios conforme a una distribución normal\n",
    "np.random.randn(2,3,4)"
   ]
  },
  {
   "cell_type": "code",
   "execution_count": 17,
   "id": "58634af7-94bd-493f-82cc-0f2caa85926b",
   "metadata": {},
   "outputs": [
    {
     "name": "stdout",
     "output_type": "stream",
     "text": [
      "(6,)\n",
      "[ 1  3  5  7  9 11]\n"
     ]
    }
   ],
   "source": [
    "#creación de un array unidimensional \n",
    "array_uni = np.array([1,3,5,7,9,11])\n",
    "print(array_uni.shape)\n",
    "print(array_uni)"
   ]
  },
  {
   "cell_type": "code",
   "execution_count": 18,
   "id": "02578958-a335-41d3-ae78-e793bd74a134",
   "metadata": {},
   "outputs": [
    {
     "data": {
      "text/plain": [
       "np.int64(9)"
      ]
     },
     "execution_count": 18,
     "metadata": {},
     "output_type": "execute_result"
    }
   ],
   "source": [
    "#acceder a los elementos de un array unidimensional\n",
    "array_uni[4]"
   ]
  },
  {
   "cell_type": "code",
   "execution_count": 19,
   "id": "00bb5137-d958-47ad-bf0b-dc4e4fec749b",
   "metadata": {},
   "outputs": [
    {
     "data": {
      "text/plain": [
       "array([5, 7])"
      ]
     },
     "execution_count": 19,
     "metadata": {},
     "output_type": "execute_result"
    }
   ],
   "source": [
    "#acceder a elementos de un array unidimensional usando slicing\n",
    "array_uni[2:4]"
   ]
  },
  {
   "cell_type": "code",
   "execution_count": 20,
   "id": "9372fda6-1f10-4b0e-b5be-6944bd7a754f",
   "metadata": {},
   "outputs": [
    {
     "data": {
      "text/plain": [
       "array([1, 7])"
      ]
     },
     "execution_count": 20,
     "metadata": {},
     "output_type": "execute_result"
    }
   ],
   "source": [
    "#acceder a elementos de un array unidimensional usando Stride\n",
    "array_uni[0::3]"
   ]
  },
  {
   "cell_type": "code",
   "execution_count": 21,
   "id": "064c5eb6-8c0e-4302-9c2d-0057f870b10d",
   "metadata": {},
   "outputs": [
    {
     "name": "stdout",
     "output_type": "stream",
     "text": [
      "(2, 4)\n"
     ]
    },
    {
     "data": {
      "text/plain": [
       "array([[1, 2, 3, 4],\n",
       "       [5, 6, 7, 8]])"
      ]
     },
     "execution_count": 21,
     "metadata": {},
     "output_type": "execute_result"
    }
   ],
   "source": [
    "#crear array multidimencional\n",
    "array_mul = np.array([[1,2,3,4],[5,6,7,8]])\n",
    "print(array_mul.shape)\n",
    "array_mul"
   ]
  },
  {
   "cell_type": "code",
   "execution_count": 22,
   "id": "747f4f63-8f73-46b8-8418-2966a592e9f0",
   "metadata": {},
   "outputs": [
    {
     "data": {
      "text/plain": [
       "np.int64(4)"
      ]
     },
     "execution_count": 22,
     "metadata": {},
     "output_type": "execute_result"
    }
   ],
   "source": [
    "#acceder a los elementos de un array multidimencional\n",
    "array_mul[0, 3]"
   ]
  },
  {
   "cell_type": "code",
   "execution_count": 23,
   "id": "15650ca9-b3a5-4d0b-9aee-1f0a11d05225",
   "metadata": {},
   "outputs": [
    {
     "data": {
      "text/plain": [
       "array([5, 6, 7, 8])"
      ]
     },
     "execution_count": 23,
     "metadata": {},
     "output_type": "execute_result"
    }
   ],
   "source": [
    "#acceder a la fila entera de un array multidimencional\n",
    "array_mul[1, :]"
   ]
  },
  {
   "cell_type": "code",
   "execution_count": 24,
   "id": "2ea44819-527e-4d68-90dc-0093af696ac2",
   "metadata": {},
   "outputs": [
    {
     "data": {
      "text/plain": [
       "array([3, 7])"
      ]
     },
     "execution_count": 24,
     "metadata": {},
     "output_type": "execute_result"
    }
   ],
   "source": [
    "#acceder al tercer elemento de las dos primeras filas de un array multidimencional\n",
    "array_mul[0:2, 2] #obtener de la fila 0 y 1 los elementos en la posición 2\n",
    "array_mul[:, 2] ##obtener de todas las filas los elementos en la posición 2 "
   ]
  },
  {
   "cell_type": "code",
   "execution_count": 25,
   "id": "a23035b8-be7e-4e2f-bb5d-74a14a3a68ce",
   "metadata": {},
   "outputs": [
    {
     "data": {
      "text/plain": [
       "array([ 0,  1,  2,  3,  4,  5,  6,  7,  8,  9, 10, 11, 12, 13, 14, 15, 16,\n",
       "       17, 18, 19, 20, 21, 22, 23, 24, 25, 26, 27])"
      ]
     },
     "execution_count": 25,
     "metadata": {},
     "output_type": "execute_result"
    }
   ],
   "source": [
    "#crear un array unidimencional con inicializado con el rango de elementos 0 - 2\n",
    "array1 = np.arange(28)\n",
    "array1"
   ]
  },
  {
   "cell_type": "code",
   "execution_count": 26,
   "id": "80ff3418-3175-43bc-b075-b193a669d423",
   "metadata": {},
   "outputs": [
    {
     "data": {
      "text/plain": [
       "array([[ 0,  1,  2,  3],\n",
       "       [ 4,  5,  6,  7],\n",
       "       [ 8,  9, 10, 11],\n",
       "       [12, 13, 14, 15],\n",
       "       [16, 17, 18, 19],\n",
       "       [20, 21, 22, 23],\n",
       "       [24, 25, 26, 27]])"
      ]
     },
     "execution_count": 26,
     "metadata": {},
     "output_type": "execute_result"
    }
   ],
   "source": [
    "#cambiar las dimensiones del array y sus longuitudes\n",
    "array1.shape = (7,4)\n",
    "array1"
   ]
  },
  {
   "cell_type": "code",
   "execution_count": 27,
   "id": "fa7e9cf7-c09c-497b-a2e6-35f479be3cc5",
   "metadata": {},
   "outputs": [
    {
     "data": {
      "text/plain": [
       "array([[ 0,  1,  2,  3,  4,  5,  6],\n",
       "       [ 7,  8,  9, 10, 11, 12, 13],\n",
       "       [14, 15, 16, 17, 18, 19, 20],\n",
       "       [21, 22, 23, 24, 25, 26, 27]])"
      ]
     },
     "execution_count": 27,
     "metadata": {},
     "output_type": "execute_result"
    }
   ],
   "source": [
    "#el ejemplo anterior devuelve un nuevo array que apunta a los mismos datos \n",
    "#Importante: las modificaciones de un array modificaran el otro\n",
    "array2 = array1.reshape(4,7)\n",
    "array2"
   ]
  },
  {
   "cell_type": "code",
   "execution_count": 28,
   "id": "b459027e-16bd-449c-a5f7-07856ae891cc",
   "metadata": {},
   "outputs": [
    {
     "data": {
      "text/plain": [
       "array([[ 0,  1,  2, 50,  4,  5,  6],\n",
       "       [ 7,  8,  9, 10, 11, 12, 13],\n",
       "       [14, 15, 16, 17, 18, 19, 20],\n",
       "       [21, 22, 23, 24, 25, 26, 27]])"
      ]
     },
     "execution_count": 28,
     "metadata": {},
     "output_type": "execute_result"
    }
   ],
   "source": [
    "#modificar valores del segundo array\n",
    "array2[0,3] = 50\n",
    "array2"
   ]
  },
  {
   "cell_type": "code",
   "execution_count": 29,
   "id": "16041e31-44b8-4090-a2bc-a0690bfe10f8",
   "metadata": {},
   "outputs": [
    {
     "name": "stdout",
     "output_type": "stream",
     "text": [
      "array1 [[ 0  1  2 50]\n",
      " [ 4  5  6  7]\n",
      " [ 8  9 10 11]\n",
      " [12 13 14 15]\n",
      " [16 17 18 19]\n",
      " [20 21 22 23]\n",
      " [24 25 26 27]]\n",
      "array2 [[ 0  1  2 50  4  5  6]\n",
      " [ 7  8  9 10 11 12 13]\n",
      " [14 15 16 17 18 19 20]\n",
      " [21 22 23 24 25 26 27]]\n"
     ]
    }
   ],
   "source": [
    "print('array1', array1)\n",
    "print('array2', array2)"
   ]
  },
  {
   "cell_type": "code",
   "execution_count": 30,
   "id": "c7e146c7-d557-472c-9809-c4d975745b7c",
   "metadata": {},
   "outputs": [
    {
     "data": {
      "text/plain": [
       "array([ 0,  1,  2, 50,  4,  5,  6,  7,  8,  9, 10, 11, 12, 13, 14, 15, 16,\n",
       "       17, 18, 19, 20, 21, 22, 23, 24, 25, 26, 27])"
      ]
     },
     "execution_count": 30,
     "metadata": {},
     "output_type": "execute_result"
    }
   ],
   "source": [
    "#desemvolver un array multidimencional y devolver un array de una dimensión \n",
    "array1.ravel()"
   ]
  },
  {
   "cell_type": "markdown",
   "id": "d074b2db-3b27-4314-b806-07db981d2e6c",
   "metadata": {},
   "source": [
    "Operaciones aritméticas"
   ]
  },
  {
   "cell_type": "code",
   "execution_count": 31,
   "id": "3da1ad9d-acea-4409-9229-03549b9e6b70",
   "metadata": {},
   "outputs": [
    {
     "name": "stdout",
     "output_type": "stream",
     "text": [
      "array1:  [ 2  4  6  8 10 12 14 16]\n",
      "array2:  [0 1 2 3 4 5 6 7]\n"
     ]
    }
   ],
   "source": [
    "#crear dos arrays unidimencionales\n",
    "ar1 = np.arange(2,18,2)\n",
    "ar2 = np.arange(8)\n",
    "print('array1: ', ar1)\n",
    "print('array2: ', ar2)"
   ]
  },
  {
   "cell_type": "code",
   "execution_count": 32,
   "id": "32ba2e2e-b985-4fe2-8172-8f6963afb9af",
   "metadata": {},
   "outputs": [
    {
     "data": {
      "text/plain": [
       "array([ 2,  5,  8, 11, 14, 17, 20, 23])"
      ]
     },
     "execution_count": 32,
     "metadata": {},
     "output_type": "execute_result"
    }
   ],
   "source": [
    "#suma\n",
    "ar1 + ar2"
   ]
  },
  {
   "cell_type": "code",
   "execution_count": 33,
   "id": "0c28601c-6098-4339-a9a2-94ff482652d1",
   "metadata": {},
   "outputs": [
    {
     "data": {
      "text/plain": [
       "array([2, 3, 4, 5, 6, 7, 8, 9])"
      ]
     },
     "execution_count": 33,
     "metadata": {},
     "output_type": "execute_result"
    }
   ],
   "source": [
    "#resta\n",
    "ar1 - ar2"
   ]
  },
  {
   "cell_type": "code",
   "execution_count": 34,
   "id": "1da8b288-d004-4391-9857-34c2e4e85559",
   "metadata": {},
   "outputs": [
    {
     "data": {
      "text/plain": [
       "array([  0,   4,  12,  24,  40,  60,  84, 112])"
      ]
     },
     "execution_count": 34,
     "metadata": {},
     "output_type": "execute_result"
    }
   ],
   "source": [
    "#multiplicación\n",
    "ar1 * ar2"
   ]
  },
  {
   "cell_type": "markdown",
   "id": "98fed736-3f15-481a-a2f7-02b12a773194",
   "metadata": {},
   "source": [
    "Broadcasting\n",
    "\n",
    "si se aplican operaciones aritméticas sobre Arrays que no tienen la misma forma (shape) Numpy aplica una propiedad que se denomina broadcasting"
   ]
  },
  {
   "cell_type": "code",
   "execution_count": 35,
   "id": "2f88d163-63ff-4699-9c58-2020528b93e2",
   "metadata": {},
   "outputs": [
    {
     "name": "stdout",
     "output_type": "stream",
     "text": [
      "Shape array1:  (5,)\n",
      "array1:  [0 1 2 3 4]\n",
      "\n",
      "Shape array2:  (1,)\n",
      "array2:  [3]\n"
     ]
    }
   ],
   "source": [
    "arr1 = np.arange(5)\n",
    "arr2 = np.array([3])\n",
    "print('Shape array1: ', arr1.shape)\n",
    "print('array1: ', arr1)\n",
    "print()\n",
    "print('Shape array2: ', arr2.shape)\n",
    "print('array2: ', arr2)"
   ]
  },
  {
   "cell_type": "code",
   "execution_count": 36,
   "id": "d4c4a12b-2a4a-452d-817a-969160c87f29",
   "metadata": {},
   "outputs": [
    {
     "data": {
      "text/plain": [
       "array([3, 4, 5, 6, 7])"
      ]
     },
     "execution_count": 36,
     "metadata": {},
     "output_type": "execute_result"
    }
   ],
   "source": [
    "#suma de ambos arrays\n",
    "arr1 +  arr2"
   ]
  },
  {
   "cell_type": "code",
   "execution_count": 37,
   "id": "cce26ef0-bf23-47e1-bfdb-854480427529",
   "metadata": {},
   "outputs": [
    {
     "name": "stdout",
     "output_type": "stream",
     "text": [
      "Shape array1:  (2, 3)\n",
      "array1:  [[0 1 2]\n",
      " [3 4 5]]\n",
      "\n",
      "Shape array2:  (3,)\n",
      "array2:  [ 6 10 14]\n"
     ]
    }
   ],
   "source": [
    "#creación de dos arrays, multidimencional y unidimensional\n",
    "arr_1 = np.arange(6)\n",
    "arr_1.shape = (2,3)\n",
    "arr_2 = np.arange(6,18,4)\n",
    "print('Shape array1: ', arr_1.shape)\n",
    "print('array1: ', arr_1)\n",
    "print()\n",
    "print('Shape array2: ', arr_2.shape)\n",
    "print('array2: ', arr_2)"
   ]
  },
  {
   "cell_type": "code",
   "execution_count": 38,
   "id": "630dfa99-93ec-4cdf-bd97-eb5e9c9ee7c1",
   "metadata": {},
   "outputs": [
    {
     "data": {
      "text/plain": [
       "array([[ 6, 11, 16],\n",
       "       [ 9, 14, 19]])"
      ]
     },
     "execution_count": 38,
     "metadata": {},
     "output_type": "execute_result"
    }
   ],
   "source": [
    "#suma de array multidimensional con unidimensional \n",
    "arr_1 + arr_2"
   ]
  },
  {
   "cell_type": "markdown",
   "id": "94c425d5-7421-41d0-ba76-fea0a4d628be",
   "metadata": {},
   "source": [
    "Funciones estadísticas sobre arrays"
   ]
  },
  {
   "cell_type": "code",
   "execution_count": 39,
   "id": "04df8202-95cc-4685-9096-b1f3560cd041",
   "metadata": {},
   "outputs": [
    {
     "name": "stdout",
     "output_type": "stream",
     "text": [
      "array1:  [ 1  3  5  7  9 11 13 15 17 19]\n"
     ]
    }
   ],
   "source": [
    "#creación de un array unidimensional \n",
    "arr_one = np.arange(1,20,2)\n",
    "print('array1: ', arr_one)"
   ]
  },
  {
   "cell_type": "code",
   "execution_count": 40,
   "id": "303b4923-f568-42b6-9a47-e54af94396f6",
   "metadata": {},
   "outputs": [
    {
     "data": {
      "text/plain": [
       "np.float64(10.0)"
      ]
     },
     "execution_count": 40,
     "metadata": {},
     "output_type": "execute_result"
    }
   ],
   "source": [
    "#media de los elementos del array\n",
    "arr_one.mean()"
   ]
  },
  {
   "cell_type": "code",
   "execution_count": 41,
   "id": "2098452e-49bf-4749-beb5-e801f6399462",
   "metadata": {},
   "outputs": [
    {
     "data": {
      "text/plain": [
       "np.int64(100)"
      ]
     },
     "execution_count": 41,
     "metadata": {},
     "output_type": "execute_result"
    }
   ],
   "source": [
    "#sumar todos los elementos del array\n",
    "arr_one.sum()"
   ]
  },
  {
   "cell_type": "markdown",
   "id": "22ffd042-b68f-405c-a247-f72ab8e45b27",
   "metadata": {},
   "source": [
    "Funciones universales eficientes proporcionadas por numpy"
   ]
  },
  {
   "cell_type": "code",
   "execution_count": 42,
   "id": "2d39594c-a750-4556-b906-b6d7fa9ab9b4",
   "metadata": {},
   "outputs": [
    {
     "data": {
      "text/plain": [
       "array([  1,   9,  25,  49,  81, 121, 169, 225, 289, 361])"
      ]
     },
     "execution_count": 42,
     "metadata": {},
     "output_type": "execute_result"
    }
   ],
   "source": [
    "#cuadrado de los elementos\n",
    "np.square(arr_one)"
   ]
  },
  {
   "cell_type": "code",
   "execution_count": 43,
   "id": "52720eb7-cc4b-4184-bfbc-988f476d9bc2",
   "metadata": {},
   "outputs": [
    {
     "data": {
      "text/plain": [
       "array([1.        , 1.73205081, 2.23606798, 2.64575131, 3.        ,\n",
       "       3.31662479, 3.60555128, 3.87298335, 4.12310563, 4.35889894])"
      ]
     },
     "execution_count": 43,
     "metadata": {},
     "output_type": "execute_result"
    }
   ],
   "source": [
    "#raíz cuadrada\n",
    "np.sqrt(arr_one)"
   ]
  },
  {
   "cell_type": "code",
   "execution_count": 44,
   "id": "0ac1895b-fe4d-4cc5-849c-d42bffaf4d2a",
   "metadata": {},
   "outputs": [
    {
     "data": {
      "text/plain": [
       "array([2.71828183e+00, 2.00855369e+01, 1.48413159e+02, 1.09663316e+03,\n",
       "       8.10308393e+03, 5.98741417e+04, 4.42413392e+05, 3.26901737e+06,\n",
       "       2.41549528e+07, 1.78482301e+08])"
      ]
     },
     "execution_count": 44,
     "metadata": {},
     "output_type": "execute_result"
    }
   ],
   "source": [
    "#exponencial\n",
    "np.exp(arr_one)"
   ]
  },
  {
   "cell_type": "code",
   "execution_count": 45,
   "id": "5faa8135-360e-4af9-beb2-b3b092e0ebb9",
   "metadata": {},
   "outputs": [
    {
     "data": {
      "text/plain": [
       "array([0.        , 1.09861229, 1.60943791, 1.94591015, 2.19722458,\n",
       "       2.39789527, 2.56494936, 2.7080502 , 2.83321334, 2.94443898])"
      ]
     },
     "execution_count": 45,
     "metadata": {},
     "output_type": "execute_result"
    }
   ],
   "source": [
    "#logaritmo\n",
    "np.log(arr_one)"
   ]
  },
  {
   "cell_type": "code",
   "execution_count": null,
   "id": "aa710581-4cac-4e77-99da-8c418660856b",
   "metadata": {},
   "outputs": [],
   "source": []
  }
 ],
 "metadata": {
  "kernelspec": {
   "display_name": "curso_deep_learning",
   "language": "python",
   "name": "python3"
  },
  "language_info": {
   "codemirror_mode": {
    "name": "ipython",
    "version": 3
   },
   "file_extension": ".py",
   "mimetype": "text/x-python",
   "name": "python",
   "nbconvert_exporter": "python",
   "pygments_lexer": "ipython3",
   "version": "3.11.11"
  }
 },
 "nbformat": 4,
 "nbformat_minor": 5
}
