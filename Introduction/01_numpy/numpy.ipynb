{
 "cells": [
  {
   "cell_type": "markdown",
   "id": "a587864e",
   "metadata": {},
   "source": [
    "Es una librería fundamental para la computación cientifica en python\n",
    "\n",
    "- proporsiona arrays de N dimensiones\n",
    "- implementa funciones matemáticas sofisticadas\n",
    "- proporsiona herramientas para integrar C/C++ y Fortran\n",
    "- proporsiona mecanismos para facilitar la realización de tareas relacionadas con álgebra lineal o números aleatorios"
   ]
  },
  {
   "cell_type": "markdown",
   "id": "2c2f263d",
   "metadata": {},
   "source": [
    "Arrays\n",
    "\n",
    "- en numpy cada dimensión se denomina axis\n",
    "- el número de dimensiones se denimina rank\n",
    "- la lista de dimensiones con sus correspondiente longitud se denomina shape\n",
    "- el número total de elementos (multuplicar la longitud de las dimensiones) se denomina size"
   ]
  },
  {
   "cell_type": "code",
   "execution_count": 51,
   "id": "6881f2f7",
   "metadata": {},
   "outputs": [
    {
     "name": "stdout",
     "output_type": "stream",
     "text": [
      "[[0. 0. 0. 0.]\n",
      " [0. 0. 0. 0.]]\n",
      "(2, 4)\n",
      "2\n",
      "8\n"
     ]
    }
   ],
   "source": [
    "import numpy as np\n",
    "\n",
    "zeros_array = np.zeros((2,4)) # array de dos dimensiones\n",
    "print(zeros_array)\n",
    "print(zeros_array.shape) # shape\n",
    "print(zeros_array.ndim) # rank\n",
    "print(zeros_array.size) # size"
   ]
  },
  {
   "cell_type": "markdown",
   "id": "d7becb76",
   "metadata": {},
   "source": [
    "zeros_array es un array:\n",
    "- con 2 axis, el primero de longitud 2 y el segundo de longitud 4\n",
    "- con un rank igual a 2\n",
    "- con un shape igual a (2,4)\n",
    "- con un size igual a 8"
   ]
  },
  {
   "cell_type": "code",
   "execution_count": null,
   "id": "8ede39e1",
   "metadata": {},
   "outputs": [],
   "source": [
    "ones_array = np.ones((2,4,6)) # array de tres dimensiones\n",
    "print(ones_array)\n",
    "print(ones_array.shape) # shape\n",
    "print(ones_array.ndim) # rank\n",
    "print(ones_array.size) # size"
   ]
  },
  {
   "cell_type": "code",
   "execution_count": null,
   "id": "4374c56a",
   "metadata": {},
   "outputs": [],
   "source": [
    "# arrays cuyo valor es indicado como segundo parámetro de la función\n",
    "np.full((2,4,7), 8)"
   ]
  },
  {
   "cell_type": "code",
   "execution_count": null,
   "id": "ee8e2e36",
   "metadata": {},
   "outputs": [],
   "source": [
    "# numpy empty no es predecible, inicializa el array con los \n",
    "# valores que hayan en memeria en ese momento\n",
    "\n",
    "np.empty((2,4))"
   ]
  },
  {
   "cell_type": "code",
   "execution_count": null,
   "id": "b06e0443",
   "metadata": {},
   "outputs": [],
   "source": [
    "# inicializando arrays con listas de python\n",
    "\n",
    "numbers_list = [2,4,6,8]\n",
    "array_list = np.array(numbers_list)\n",
    "print(array_list)\n",
    "\n",
    "array_list_two_dimensions = np.array([numbers_list, [10, 12, 14, 16]])\n",
    "print(array_list_two_dimensions)\n"
   ]
  },
  {
   "cell_type": "code",
   "execution_count": null,
   "id": "b04d08bd",
   "metadata": {},
   "outputs": [],
   "source": [
    "# creación de un array utilizando una función basada en rangos\n",
    "#(mínimo, máximo, número de elementos)\n",
    "\n",
    "array_ranges = np.linspace(0, 6, 10)\n",
    "print(array_ranges)\n"
   ]
  },
  {
   "cell_type": "code",
   "execution_count": null,
   "id": "b3e8130a",
   "metadata": {},
   "outputs": [],
   "source": [
    "# creación de arrays con valosres aleatorios\n",
    "\n",
    "random_array = np.random.rand(2,3,4)\n",
    "print(random_array)"
   ]
  },
  {
   "cell_type": "code",
   "execution_count": null,
   "id": "f23d6167",
   "metadata": {},
   "outputs": [],
   "source": [
    "# inicialización de un array con valores aleatiros conforme a una distrubución normal\n",
    "\n",
    "random_array_normal = np.random.randn(2,4)\n",
    "print(random_array_normal)"
   ]
  },
  {
   "cell_type": "markdown",
   "id": "cbaa824a",
   "metadata": {},
   "source": [
    "Acceso a los elementos de un array"
   ]
  },
  {
   "cell_type": "code",
   "execution_count": null,
   "id": "c30eb9e1",
   "metadata": {},
   "outputs": [],
   "source": [
    "# ejemplo con array de una dimensión\n",
    "\n",
    "array_uni = np.array([1, 3, 5, 7, 9, 11])\n",
    "print(array_uni.shape)\n",
    "print(array_uni.ndim)\n",
    "print(array_uni)\n",
    "\n",
    "# accediendo al cuarto elemento\n",
    "print(array_uni[4])\n",
    "\n",
    "# slicing\n",
    "print(array_uni[2:4])\n",
    "\n",
    "# stride\n",
    "print(array_uni[0::3])"
   ]
  },
  {
   "cell_type": "code",
   "execution_count": null,
   "id": "a9713490",
   "metadata": {},
   "outputs": [],
   "source": [
    "# ejemplo con array de una multidimensional\n",
    "array_mult = np.array([[1, 2, 3, 4], [5, 6, 7, 8]])\n",
    "print(array_mult.shape)\n",
    "print(array_mult)\n",
    "\n",
    "# accediendo al cuarto elemento\n",
    "print(array_mult[0,3]) # fila 0, elemento 3\n",
    "\n",
    "# accediendo a la fila entera\n",
    "print(array_mult[1:]) \n",
    "\n",
    "# accediendo al tercer elemento de todas las filas\n",
    "print(array_mult[0:2, 2]) \n",
    "print(array_mult[:, 2]) # simplificado"
   ]
  },
  {
   "cell_type": "markdown",
   "id": "fff51c93",
   "metadata": {},
   "source": [
    "Modificar un Array"
   ]
  },
  {
   "cell_type": "code",
   "execution_count": null,
   "id": "f0889087",
   "metadata": {},
   "outputs": [],
   "source": [
    "# creación de un array inicializandolo con un rango de 0-27\n",
    "\n",
    "arr_range = np.arange(28)\n",
    "print(arr_range)\n",
    "\n",
    "# cambiar las dimensiones\n",
    "\n",
    "arr_range.shape = (7,4)\n",
    "print(arr_range)\n",
    "\n",
    "# la redimensión del array anterior apunta a los mismos datos\n",
    "# si se modifica esto modificará el array original\n",
    "\n",
    "arr_range2 = arr_range.reshape(4, 7)\n",
    "print(arr_range2)\n",
    "\n",
    "print('----- modificación de array copia -----')\n",
    "arr_range2[0,2] = 50\n",
    "\n",
    "print('array copia: \\n', arr_range2)\n",
    "print('array original: \\n', arr_range)\n",
    "\n",
    "# convertir array multidimensional en unidimensional\n",
    "\n",
    "arr_range_uni = arr_range2.ravel()\n",
    "print(arr_range_uni)\n"
   ]
  },
  {
   "cell_type": "markdown",
   "id": "3ad025d1",
   "metadata": {},
   "source": [
    "Operaciones aaritméticas con arrays"
   ]
  },
  {
   "cell_type": "code",
   "execution_count": 60,
   "id": "f862fa62",
   "metadata": {},
   "outputs": [
    {
     "name": "stdout",
     "output_type": "stream",
     "text": [
      "array 1:\n",
      " [ 2  4  6  8 10 12 14 16]\n",
      "array 2:\n",
      " [0 1 2 3 4 5 6 7]\n",
      "----- suma -----\n",
      "[ 2  5  8 11 14 17 20 23]\n",
      "----- resta -----\n",
      "[2 3 4 5 6 7 8 9]\n",
      "----- multiplicación -----\n",
      "[  0   4  12  24  40  60  84 112]\n"
     ]
    }
   ],
   "source": [
    "# crear 2 arrays unidimencionales\n",
    "\n",
    "array_uni_op1 = np.arange(2, 18, 2)\n",
    "array_uni_op2 = np.arange(8)\n",
    "\n",
    "print('array 1:\\n', array_uni_op1)\n",
    "print('array 2:\\n', array_uni_op2)\n",
    "\n",
    "print('----- suma -----')\n",
    "print(array_uni_op1 + array_uni_op2)\n",
    "\n",
    "print('----- resta -----')\n",
    "print(array_uni_op1 - array_uni_op2)\n",
    "\n",
    "print('----- multiplicación -----')\n",
    "print(array_uni_op1 * array_uni_op2)"
   ]
  },
  {
   "cell_type": "markdown",
   "id": "9156941d",
   "metadata": {},
   "source": [
    "Broadcasting\n",
    "\n",
    "Si se aplican operaciones aritméticas con arrays que no tienen la misma forma (shape) numpy aplica una propiedad\n",
    "que se denomina como broadcasting"
   ]
  },
  {
   "cell_type": "code",
   "execution_count": 65,
   "id": "e8dc3d13",
   "metadata": {},
   "outputs": [
    {
     "name": "stdout",
     "output_type": "stream",
     "text": [
      "shape array 1:  (5,)\n",
      "array 1:  [0 1 2 3 4]\n",
      "\n",
      "shape array 2:  (1,)\n",
      "array :  [3]\n",
      "----- suma -----\n",
      "[3 4 5 6 7]\n",
      "----- resta -----\n",
      "[-3 -2 -1  0  1]\n",
      "----- multiplicación -----\n",
      "[ 0  3  6  9 12]\n"
     ]
    }
   ],
   "source": [
    "# operaciones aritméticad en arrays unidimensionales\n",
    "\n",
    "array_uni_op3 = np.arange(5)\n",
    "array_uni_op4 = np.array([3])\n",
    "\n",
    "print('shape array 1: ', array_uni_op3.shape)\n",
    "print('array 1: ', array_uni_op3)\n",
    "\n",
    "print()\n",
    "\n",
    "print('shape array 2: ', array_uni_op4.shape)\n",
    "print('array : ', array_uni_op4)\n",
    "\n",
    "print('----- suma -----')\n",
    "print(array_uni_op3 + array_uni_op4)\n",
    "\n",
    "print('----- resta -----')\n",
    "print(array_uni_op3 - array_uni_op4)\n",
    "\n",
    "print('----- multiplicación -----')\n",
    "print(array_uni_op3 * array_uni_op4)"
   ]
  },
  {
   "cell_type": "code",
   "execution_count": 69,
   "id": "4f866676",
   "metadata": {},
   "outputs": [
    {
     "name": "stdout",
     "output_type": "stream",
     "text": [
      "shape array 1 (2, 3)\n",
      "array 1 \n",
      " [[0 1 2]\n",
      " [3 4 5]]\n",
      "\n",
      "shape array 2 (3,)\n",
      "array 1 \n",
      " [ 6 10 14]\n",
      "----- suma -----\n",
      "[[ 6 11 16]\n",
      " [ 9 14 19]]\n",
      "----- resta -----\n",
      "[[ -6  -9 -12]\n",
      " [ -3  -6  -9]]\n",
      "----- multiplicación -----\n",
      "[[ 0 10 28]\n",
      " [18 40 70]]\n"
     ]
    }
   ],
   "source": [
    "# operaciones aritméticads con array multidimensional y unidimensional\n",
    "\n",
    "array_mult_op1 = np.arange(6)\n",
    "array_mult_op1.shape = (2,3)\n",
    "print('shape array 1', array_mult_op1.shape)\n",
    "print('array 1 \\n', array_mult_op1)\n",
    "\n",
    "print()\n",
    "\n",
    "array_mult_op2 = np.arange(6, 18, 4)\n",
    "print('shape array 2', array_mult_op2.shape)\n",
    "print('array 1 \\n', array_mult_op2)\n",
    "\n",
    "print('----- suma -----')\n",
    "print(array_mult_op1 + array_mult_op2)\n",
    "\n",
    "print('----- resta -----')\n",
    "print(array_mult_op1 - array_mult_op2)\n",
    "\n",
    "print('----- multiplicación -----')\n",
    "print(array_mult_op1 * array_mult_op2)\n"
   ]
  },
  {
   "cell_type": "markdown",
   "id": "3d1c8494",
   "metadata": {},
   "source": [
    "Funciones estadísticas sobre arrays"
   ]
  },
  {
   "cell_type": "code",
   "execution_count": 72,
   "id": "e80398bc",
   "metadata": {},
   "outputs": [
    {
     "name": "stdout",
     "output_type": "stream",
     "text": [
      "array 1: \n",
      " [ 1  3  5  7  9 11 13 15 17 19]\n",
      "10.0\n",
      "100\n"
     ]
    }
   ],
   "source": [
    "# crear array unidimensiona\n",
    "\n",
    "array_est1 = np.arange(1, 20, 2)\n",
    "print('array 1: \\n', array_est1)\n",
    "\n",
    "# calcular la media de todos los valores de un array\n",
    "\n",
    "print(array_est1.mean())\n",
    "\n",
    "# suma de los elementos\n",
    "print(array_est1.sum())"
   ]
  },
  {
   "cell_type": "markdown",
   "id": "588211db",
   "metadata": {},
   "source": [
    "Funciones universales eficientes proporsionadas por numpy"
   ]
  },
  {
   "cell_type": "code",
   "execution_count": 77,
   "id": "cb062e89",
   "metadata": {},
   "outputs": [
    {
     "name": "stdout",
     "output_type": "stream",
     "text": [
      "----- square -----\n",
      "[  1   9  25  49  81 121 169 225 289 361]\n",
      "----- sqrt -----\n",
      "[1.         1.73205081 2.23606798 2.64575131 3.         3.31662479\n",
      " 3.60555128 3.87298335 4.12310563 4.35889894]\n",
      "----- exp -----\n",
      "[2.71828183e+00 2.00855369e+01 1.48413159e+02 1.09663316e+03\n",
      " 8.10308393e+03 5.98741417e+04 4.42413392e+05 3.26901737e+06\n",
      " 2.41549528e+07 1.78482301e+08]\n",
      "----- log -----\n",
      "[0.         1.09861229 1.60943791 1.94591015 2.19722458 2.39789527\n",
      " 2.56494936 2.7080502  2.83321334 2.94443898]\n"
     ]
    }
   ],
   "source": [
    "# cuadrado de los elementos de un array\n",
    "\n",
    "array_ufunc = np.arange(1, 20, 2)\n",
    "\n",
    "print('----- square -----')\n",
    "print(np.square(array_ufunc))\n",
    "\n",
    "# raíz cuadrada de los elementos de un array\n",
    "\n",
    "print('----- sqrt -----')\n",
    "print(np.sqrt(array_ufunc))\n",
    "\n",
    "# exponencial de los elementos de un array\n",
    "\n",
    "print('----- exp -----')\n",
    "print(np.exp(array_ufunc))\n",
    "\n",
    "# logaritmo de los elementos de un array\n",
    "\n",
    "print('----- log -----')\n",
    "print(np.log(array_ufunc))"
   ]
  }
 ],
 "metadata": {
  "kernelspec": {
   "display_name": ".venv (3.13.0)",
   "language": "python",
   "name": "python3"
  },
  "language_info": {
   "codemirror_mode": {
    "name": "ipython",
    "version": 3
   },
   "file_extension": ".py",
   "mimetype": "text/x-python",
   "name": "python",
   "nbconvert_exporter": "python",
   "pygments_lexer": "ipython3",
   "version": "3.13.0"
  }
 },
 "nbformat": 4,
 "nbformat_minor": 5
}
